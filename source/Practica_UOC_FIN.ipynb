{
 "cells": [
  {
   "cell_type": "markdown",
   "id": "372e2b07-7584-48ec-8bcb-2e8e35ea16b1",
   "metadata": {},
   "source": [
    ".<div style=\"width: 100%; clear: both;\">\n",
    "<div style=\"float: left; width: 50%;\">\n",
    "<img src=\"http://www.uoc.edu/portal/_resources/common/imatges/marca_UOC/UOC_Masterbrand.jpg\", align=\"left\">\n",
    "</div>\n",
    "<div style=\"float: right; width: 50%;\">\n",
    "<p style=\"margin: 0; padding-top: 22px; text-align:right;\">M2.851 - Tipología y ciclo de vida de los datos aula 1</p>\n",
    "<p style=\"margin: 0; text-align:right;\">2022-2 · Máster universitario en Ciencia de datos (Data science)</p>\n",
    "<p style=\"margin: 0; text-align:right; padding-button: 100px;\">Estudios de Informática, Multimedia y Telecomunicación</p>\n",
    "</div>\n",
    "</div>\n",
    "<div style=\"width:100%;\">&nbsp;</div>"
   ]
  },
  {
   "cell_type": "markdown",
   "id": "f6b8b461-e855-4c16-8ffe-3a1fba37c173",
   "metadata": {},
   "source": [
    "<div class=\"alert alert-block alert-info\">\n",
    "<strong>Nombre y apellidos de los integrantes de la Práctica: </strong>\n",
    "    <ol start=\"1\">\n",
    "        <li>William Gabriel Granda Betancourt</li>\n",
    "        <li>Oscar Augusto Diaz Triana</li>\n",
    "    </ol>\n",
    "</div>"
   ]
  },
  {
   "cell_type": "markdown",
   "id": "a797d592-9901-4ce2-8571-5d5f1215b82f",
   "metadata": {},
   "source": [
    "# ¿Cómo podemos capturar los datos de la web?  - Práctica 1"
   ]
  },
  {
   "cell_type": "markdown",
   "id": "3c30bbbb-de6b-47e6-bb2d-567210509d7c",
   "metadata": {},
   "source": [
    "El web scraping es una técnica que consiste en la extracción automatizada de datos de sitios web. A través de esta técnica, se pueden extraer datos de diversas fuentes en línea de manera eficiente y precisa.\n",
    "\n",
    "Los beneficios del web scraping son numerosos y pueden incluir:\n",
    "\n",
    "<ol start=\"1\">\n",
    "<li><strong>Ahorro de tiempo:</strong> El web scraping puede recopilar grandes cantidades de datos en cuestión de minutos, lo que podría llevar días o semanas si se hiciera manualmente.</li>\n",
    "<li><strong>Automatización:</strong> Una vez que se ha configurado correctamente el web scraping, se puede ejecutar automáticamente en intervalos regulares, lo que significa que no es necesario que un humano lo haga manualmente.</li>\n",
    "<li><strong>Precisión:</strong> El web scraping automatizado es más preciso que la recopilación manual de datos, lo que significa que los errores humanos se eliminan y los datos recopilados son más precisos.</li>\n",
    "<li><strong>Análisis de datos:</strong> El web scraping puede proporcionar grandes cantidades de datos para el análisis y la toma de decisiones.</li>\n",
    "</ol>\n",
    "\n",
    "Es importante tener en cuenta que el web scraping puede ser ilegal en algunos casos y que es importante seguir las leyes y regulaciones pertinentes. Además, es importante respetar los términos y condiciones del sitio web objetivo y obtener el permiso adecuado antes de realizar cualquier tipo de web scraping.\n"
   ]
  },
  {
   "cell_type": "markdown",
   "id": "0f25a1a8-a82f-44a8-b6ec-c78719aaa54f",
   "metadata": {},
   "source": [
    "## Importar Librerias"
   ]
  },
  {
   "cell_type": "markdown",
   "id": "b2b7b92a-5029-4f90-8583-6dd6579a2ee1",
   "metadata": {},
   "source": [
    "Para poder inicar el proceso de web scraping con Selenium es necesario contar con las siguente librerias:\n",
    "    \n",
    "\n",
    "\n",
    "- `selenium.webdriver`: Esta biblioteca permite la automatización de un navegador web, lo que es crucial para interactuar con una página web y extraer datos de ella. Permite el acceso a elementos de la página, llenar formularios, hacer clic en botones, etc.\n",
    "- `selenium.webdriver.support.ui.WebDriverWait`: Esta biblioteca permite esperar a que se cargue un elemento en la página antes de interactuar con él. Esto es importante porque muchas veces los elementos en una página web no están disponibles inmediatamente y es necesario esperar a que se carguen.\n",
    "- `selenium.webdriver.support.expected_conditions`: Esta biblioteca contiene una serie de condiciones que se pueden utilizar con `WebDriverWait` para esperar a que se cumplan antes de interactuar con un elemento de la página. Por ejemplo, se puede esperar a que un elemento esté visible, que esté clickeable, que tenga un cierto texto, etc.\n",
    "- `selenium.webdriver.common.by`: Esta biblioteca contiene una serie de estrategias para localizar elementos en una página web, como encontrar elementos por ID, por nombre, por clase, por etiqueta, etc.\n",
    "- `time`: Esta biblioteca es importante para agregar retrasos en el código y así permitir que la página cargue o que se realice alguna otra acción antes de continuar con el código.\n",
    "- `pandas`: Esta biblioteca es importante para procesar y almacenar los datos extraídos de la página web en un formato estructurado y manipulable.\n",
    "- `selenium.webdriver.support.ui.Select`: Esta biblioteca permite interactuar con elementos selectos de una página web, como menús desplegables y listas. Permite seleccionar opciones, obtener valores seleccionados, etc.\n",
    "- `urllib`: Para leer url's.    "
   ]
  },
  {
   "cell_type": "code",
   "execution_count": 24,
   "id": "509f4dfe",
   "metadata": {},
   "outputs": [],
   "source": [
    "from selenium import webdriver\n",
    "from selenium.webdriver.support.ui import WebDriverWait\n",
    "from selenium.webdriver.support import expected_conditions as EC\n",
    "from selenium.webdriver.common.by import By\n",
    "import time\n",
    "import pandas as pd\n",
    "import urllib\n",
    "from selenium.webdriver.support.ui import Select"
   ]
  },
  {
   "cell_type": "markdown",
   "id": "05d952f9-b433-44ba-b456-49a00fa56224",
   "metadata": {},
   "source": [
    "## Configurando las opciones para el controlador web de Selenium - Caso Chrome"
   ]
  },
  {
   "cell_type": "markdown",
   "id": "1c95b4a3-542d-4bb4-a31f-aef3c55dd4ae",
   "metadata": {},
   "source": [
    "### Descargar el controlador"
   ]
  },
  {
   "cell_type": "markdown",
   "id": "efedf264-0ea6-4cea-a7dc-df9bad7706ec",
   "metadata": {},
   "source": [
    "Para descargar y configurar el controlador web de Selenium para Chrome, se siguen los siguientes pasos:\n",
    "\n",
    "- Descargar la versión más reciente del controlador de Chrome para Selenium WebDriver desde el sitio web oficial de Selenium: https://sites.google.com/chromium.org/driver/\n",
    "\n",
    "- La versión del controlador de Chrome debe ser  compatible con la versión de Chrome.\n",
    "\n",
    "- Extraer el archivo zip que contiene el controlador. \n",
    "\n",
    "- Finalmente, se instala la biblioteca de Selenium para Python usando pip, en la terminal ejecutando el comando:  `pip install selenium`"
   ]
  },
  {
   "cell_type": "markdown",
   "id": "d85f733e-f2be-4961-a195-fae7ee1a2757",
   "metadata": {},
   "source": [
    "### Configurar el controlador"
   ]
  },
  {
   "cell_type": "code",
   "execution_count": 2,
   "id": "b60b50b5-59f8-4de8-81e6-95bb2f351191",
   "metadata": {},
   "outputs": [
    {
     "name": "stderr",
     "output_type": "stream",
     "text": [
      "<ipython-input-2-7e12f7494476>:14: DeprecationWarning: executable_path has been deprecated, please pass in a Service object\n",
      "  driver = webdriver.Chrome(executable_path=r'C:\\Users\\DIAZOVIEDO\\Desktop\\chromedriver.exe', options=options)\n"
     ]
    }
   ],
   "source": [
    "# Se están configurando opciones para el driver de Chrome:\n",
    "options = webdriver.ChromeOptions()\n",
    "\n",
    "# Se establece la opción para iniciar la ventana del navegador en tamaño máximo:\n",
    "options.add_argument('--start-maximized')\n",
    "\n",
    "# Se establece la opción para deshabilitar extensiones del navegador:\n",
    "options.add_argument('--disable-extension')\n",
    "\n",
    "# Se establece la opción para excluir los switches de automatización:\n",
    "options.add_experimental_option(\"excludeSwitches\",['enable-automation'])\n",
    "\n",
    "# Se inicializa el driver de Chrome con la ruta del archivo ejecutable y las opciones configuradas anteriormente:\n",
    "driver = webdriver.Chrome(executable_path=r'C:\\Users\\DIAZOVIEDO\\Desktop\\chromedriver.exe', options=options)"
   ]
  },
  {
   "cell_type": "markdown",
   "id": "b547ab2c-49b6-45e6-9cc7-b4dffd934989",
   "metadata": {},
   "source": [
    "## Ejecutar script en el navegador web controlado por Selenium (en este caso, Chrome)"
   ]
  },
  {
   "cell_type": "markdown",
   "id": "f95219ec-770e-4420-99fc-1d47a25b3155",
   "metadata": {},
   "source": [
    "Vamos a ejecutar un script en el navegador web controlado por Selenium (en este caso, Chrome), el cual devuelve el valor del user agent (agente de usuario) del navegador. El user agent es una cadena de texto que identifica al navegador web y su versión, y es útil para ciertas operaciones de web scraping y automatización web."
   ]
  },
  {
   "cell_type": "markdown",
   "id": "2e523e7c-1045-41d8-98b6-ce66e40622e4",
   "metadata": {},
   "source": [
    "### Identificación del Navegador"
   ]
  },
  {
   "cell_type": "code",
   "execution_count": 3,
   "id": "4c2cfb7e",
   "metadata": {},
   "outputs": [],
   "source": [
    "#identifica al navegador web y su versión\n",
    "user_agent = driver.execute_script(\"return navigator.userAgent;\")"
   ]
  },
  {
   "cell_type": "code",
   "execution_count": 4,
   "id": "fe3e83ad",
   "metadata": {},
   "outputs": [
    {
     "name": "stdout",
     "output_type": "stream",
     "text": [
      "Mozilla/5.0 (Windows NT 10.0; Win64; x64) AppleWebKit/537.36 (KHTML, like Gecko) Chrome/111.0.0.0 Safari/537.36\n"
     ]
    }
   ],
   "source": [
    "# Imprime el Resultado\n",
    "print(user_agent)"
   ]
  },
  {
   "cell_type": "markdown",
   "id": "045d8cd5-06ee-4eff-9dcc-96b31825fa77",
   "metadata": {},
   "source": [
    "La línea de código en Python `url = 'https://www.amazon.es/' ` define la URL del sitio web que se va a acceder, en este caso la página principal de Amazon España.\n",
    "La siguiente línea de código `driver.get(url)` utiliza el objeto driver de Selenium para acceder a la URL proporcionada. En este caso, se abre una ventana del navegador con la página principal de Amazon España cargada en ella. La función `get()` es utilizada para cargar una página web en el navegador. En este caso, se está cargando la URL definida anteriormente en la variable url."
   ]
  },
  {
   "cell_type": "markdown",
   "id": "29d58967-3fe9-4754-914a-70b6e0579da9",
   "metadata": {},
   "source": [
    "### Ingresar al sitio elegido para realizar Web Scraping"
   ]
  },
  {
   "cell_type": "code",
   "execution_count": 5,
   "id": "26509907",
   "metadata": {},
   "outputs": [],
   "source": [
    "#Definimos la URL del sitio web que se va a acceder, en este caso la página principal de Amazon España.\n",
    "url = 'https://www.amazon.es/'\n",
    "\n",
    "# Se utiliza el objeto driver de Selenium para acceder a la URL proporcionada.\n",
    "driver.get(url)"
   ]
  },
  {
   "cell_type": "markdown",
   "id": "3c91c638-a3ba-44fa-9c73-328a8e6c39d0",
   "metadata": {},
   "source": [
    "\n",
    "El siguente script intenta hacer clic en el botón \"Aceptar\" de la política de cookies de la página web en la que se está trabajando. Primero, utiliza `WebDriverWait` para esperar a que el botón sea clickable (hasta 15 segundos) y luego hace clic en él. Si se produce algún error y no se puede hacer clic en el botón, se imprimirá \"SIN COOKIES\" en la consola.\n"
   ]
  },
  {
   "cell_type": "code",
   "execution_count": 6,
   "id": "e58bc8c6",
   "metadata": {},
   "outputs": [],
   "source": [
    "# ACEPTAMOS LAS COOKIES: \n",
    "\n",
    "try: \n",
    "    WebDriverWait(driver, 15)\\\n",
    "    .until(EC.element_to_be_clickable((By.CSS_SELECTOR,\n",
    "                                      'input#sp-cc-accept a-button-input celwidget'.replace(' ', '.'))))\\\n",
    "    .click()\n",
    "except:\n",
    "    print(\"SIN COOKIES\")"
   ]
  },
  {
   "cell_type": "markdown",
   "id": "3e4609a7-4da1-4ef9-b466-b2e6b54334b7",
   "metadata": {},
   "source": [
    "\n",
    " \n",
    "El siguiente código es parte de una automatización para hacer clic en un botón específico de una página web. en este caso para iniciar sesión.\n",
    "\n",
    "En primer lugar, se utiliza la función `WebDriverWait` para esperar un tiempo máximo de 10 segundos hasta que el elemento seleccionado esté disponible para ser cliqueado. Luego, se utiliza el método `element_to_be_clickable` de la clase `expected_conditions` para indicar que se espera que el elemento esté visible y habilitado para interactuar.\n",
    "\n",
    "El elemento seleccionado es un botón en la página web, el cual es identificado a través de un selector CSS. En este caso, el selector CSS es `'a.a-button-text'.replace(' ', '.')`, que busca un elemento a con la clase `a-button-text`. El método `click()` se utiliza para hacer clic en este botón.\n"
   ]
  },
  {
   "cell_type": "code",
   "execution_count": 7,
   "id": "d41cd6a3",
   "metadata": {},
   "outputs": [],
   "source": [
    "# INICIAMOS SESION: \n",
    "\n",
    "WebDriverWait(driver, 10)\\\n",
    "    .until(EC.element_to_be_clickable((By.CSS_SELECTOR,\n",
    "                                      'a.a-button-text'.replace(' ', '.'))))\\\n",
    "    .click()"
   ]
  },
  {
   "cell_type": "markdown",
   "id": "e0f0c2f8-8ddd-4b59-b2e7-d765044102b4",
   "metadata": {},
   "source": [
    "El código crea un bloque `try-except`. En el bloque try, se intenta encontrar y hacer clic en el campo de entrada de correo electrónico en la página web usando el método `WebDriverWait()`.\n",
    "\n",
    "Se espera un máximo de 5 segundos para que el elemento esté disponible y, una vez encontrado, se introduce una dirección de correo electrónico.\n",
    "\n",
    "En caso de que ocurra una excepción (por ejemplo, si el campo de entrada no se encuentra en la página), se realiza una acción alternativa en el bloque `except`.\n",
    "\n",
    "En este caso, se hace clic en otro elemento en la página web que podría llevar al campo de entrada de correo electrónico.\n",
    "\n",
    "Después, se espera 10 segundos para que la página se cargue y, a continuación, se busca de nuevo el campo de entrada de correo electrónico.\n",
    "\n",
    "Si se encuentra, se introduce una dirección de correo electrónico, caso contrario se produce una excepción."
   ]
  },
  {
   "cell_type": "code",
   "execution_count": 8,
   "id": "8fdd28d2",
   "metadata": {},
   "outputs": [],
   "source": [
    "## CREAMOS UN TRY: \n",
    "\n",
    "try: \n",
    "    WebDriverWait(driver, 5)\\\n",
    "    .until(EC.element_to_be_clickable((By.CSS_SELECTOR,\n",
    "                                      'input#ap_email a-input-text a-span12 auth-autofocus auth-required-field'.replace(' ','.'))))\\\n",
    "    .send_keys(\"gabo_granda@hotmail.com\")\n",
    "except: \n",
    "    WebDriverWait(driver, 10)\\\n",
    "    .until(EC.element_to_be_clickable((By.CSS_SELECTOR,\n",
    "                                      'a.a-link-emphasis'.replace(' ', '.'))))\\\n",
    "    .click()\n",
    "    \n",
    "    # ENVIAMOS DE NUEVO: \n",
    "    WebDriverWait(driver, 5)\\\n",
    "    .until(EC.element_to_be_clickable((By.CSS_SELECTOR,\n",
    "                                      'input#ap_email a-input-text a-span12 auth-autofocus auth-required-field'.replace(' ','.'))))\\\n",
    "    .send_keys(\"gabo_granda@hotmail.com\")"
   ]
  },
  {
   "cell_type": "markdown",
   "id": "a13b7edd-27cb-4b40-83d1-0d8d3e2214dd",
   "metadata": {},
   "source": [
    "El siguente código está buscando un elemento en la página web con un selector CSS específico, en este caso `input#continue a-button-input`, que es un botón de \"Continuar\" o \"Siguiente\". Luego espera hasta que el elemento esté clickable y, finalmente, hace clic en él mediante la función `click()` de Selenium `WebDriver`. La finalidad de esta acción es continuar con el proceso de inicio de sesión en la página web."
   ]
  },
  {
   "cell_type": "code",
   "execution_count": 9,
   "id": "432fd666",
   "metadata": {},
   "outputs": [],
   "source": [
    "## CONTINUAR: \n",
    "WebDriverWait(driver, 10)\\\n",
    "    .until(EC.element_to_be_clickable((By.CSS_SELECTOR,\n",
    "                                      'input#continue a-button-input'.replace(' ', '.'))))\\\n",
    "    .click()"
   ]
  },
  {
   "cell_type": "markdown",
   "id": "d56c4d31-40c3-42eb-8162-c2310d25de46",
   "metadata": {},
   "source": [
    "El siguiente código localiza el elemento de entrada de contraseña en una página web utilizando el método `CSS_SELECTOR` y la función `until()` de `WebDriverWait` de Selenium. Luego, envía la contraseña \"UOC2023\" al elemento encontrado usando la función `send_keys()`."
   ]
  },
  {
   "cell_type": "code",
   "execution_count": 10,
   "id": "98a66aa0",
   "metadata": {},
   "outputs": [],
   "source": [
    "## contraseña\n",
    "WebDriverWait(driver, 10)\\\n",
    "    .until(EC.element_to_be_clickable((By.CSS_SELECTOR,\n",
    "                                      'input#ap_password a-input-text a-span12 auth-autofocus auth-required-field'.replace(' ','.'))))\\\n",
    "    .send_keys(\"UOC2023\")"
   ]
  },
  {
   "cell_type": "markdown",
   "id": "fb41aac4-fa99-497b-bb50-ad41f9211f2d",
   "metadata": {},
   "source": [
    "El codigo siguiente corresponde a la acción de iniciar sesión en la página web en la que se está trabajando. Para ello, se espera a que se cargue el elemento `signInSubmit`(que es el botón de inicio de sesión) y se hace clic sobre él mediante el método `click()` de Selenium. La función `WebDriverWait` permite esperar un máximo de 10 segundos a que el elemento esté disponible para ser clicado, y la combinación de métodos `EC.element_to_be_clickable` y `By.CSS_SELECTOR` se utiliza para localizar de manera precisa el elemento en el código HTML de la página."
   ]
  },
  {
   "cell_type": "code",
   "execution_count": 11,
   "id": "d0210181",
   "metadata": {},
   "outputs": [],
   "source": [
    "## INICIAMOS SESIÓN: \n",
    "WebDriverWait(driver, 10)\\\n",
    "    .until(EC.element_to_be_clickable((By.CSS_SELECTOR,\n",
    "                                      'input#signInSubmit a-button-input'.replace(' ', '.')))).click()"
   ]
  },
  {
   "cell_type": "markdown",
   "id": "7fa5bbd9-a756-45c3-b49f-408eb7259b75",
   "metadata": {},
   "source": [
    "### Navegar en el sitio"
   ]
  },
  {
   "cell_type": "markdown",
   "id": "7b2fd3d9-1f47-40b3-b555-e9c0876a142c",
   "metadata": {},
   "source": [
    "El siguiente código está buscando una lista de opciones dentro de un menú desplegable en la página web,para realizar una selección de categoría en una búsqueda posterior. El código busca un elemento select en la página web, que se encuentra en la ruta especificada en la variable `xpath (/html/body/div[1]/header/div/div[1]/div[2]/div/form/div[2]/div/div/select)`, y lo almacena en la variable select. Luego, busca todos los elementos option dentro de ese elemento `select`, y los almacena en la variable `opcion`."
   ]
  },
  {
   "cell_type": "code",
   "execution_count": 12,
   "id": "933ee3d3",
   "metadata": {},
   "outputs": [],
   "source": [
    "## BUSCAMOS LA CATEGORÍA:  /html/body/div[1]/header/div/div[1]/div[2]/div/form/div[2]/div/div/select\n",
    "select = driver.find_element(By.XPATH, '/html/body/div[1]/header/div/div[1]/div[2]/div/form/div[2]/div/div/select')\n",
    "opcion = select.find_elements(By.TAG_NAME,'option')"
   ]
  },
  {
   "cell_type": "markdown",
   "id": "15f197c2-4c27-4f34-910a-d05cec5c5c74",
   "metadata": {},
   "source": [
    "El siguente código itera sobre todas las opciones dentro del menú desplegable de categorías en una página web utilizando un bucle `for`. En cada iteración, se imprime el valor del atributo `value` del elemento de opción correspondiente utilizando el método `get_attribute()`."
   ]
  },
  {
   "cell_type": "code",
   "execution_count": 13,
   "id": "aa60a5bd",
   "metadata": {},
   "outputs": [
    {
     "name": "stdout",
     "output_type": "stream",
     "text": [
      "Value is: search-alias=aps\n",
      "Value is: search-alias=alexa-skills\n",
      "Value is: search-alias=grocery\n",
      "Value is: search-alias=amazon-global-store\n",
      "Value is: search-alias=warehouse-deals\n",
      "Value is: search-alias=mobile-apps\n",
      "Value is: search-alias=audible\n",
      "Value is: search-alias=baby\n",
      "Value is: search-alias=beauty\n",
      "Value is: search-alias=diy\n",
      "Value is: search-alias=gift-cards\n",
      "Value is: search-alias=automotive\n",
      "Value is: search-alias=sporting\n",
      "Value is: search-alias=amazon-devices\n",
      "Value is: search-alias=electronics\n",
      "Value is: search-alias=fashion-luggage\n",
      "Value is: search-alias=appliances\n",
      "Value is: search-alias=handmade\n",
      "Value is: search-alias=kitchen\n",
      "Value is: search-alias=lighting\n",
      "Value is: search-alias=industrial\n",
      "Value is: search-alias=computers\n",
      "Value is: search-alias=mi\n",
      "Value is: search-alias=lawngarden\n",
      "Value is: search-alias=toys\n",
      "Value is: search-alias=stripbooks\n",
      "Value is: search-alias=luxury\n",
      "Value is: search-alias=under-ten-dollars\n",
      "Value is: search-alias=fashion\n",
      "Value is: search-alias=fashion-womens\n",
      "Value is: search-alias=fashion-mens\n",
      "Value is: search-alias=fashion-girls\n",
      "Value is: search-alias=fashion-boys\n",
      "Value is: search-alias=fashion-baby\n",
      "Value is: search-alias=digital-music\n",
      "Value is: search-alias=popular\n",
      "Value is: search-alias=office-products\n",
      "Value is: search-alias=dvd\n",
      "Value is: search-alias=instant-video\n",
      "Value is: search-alias=pets\n",
      "Value is: search-alias=hpc\n",
      "Value is: search-alias=software\n",
      "Value is: search-alias=specialty-aps-sns\n",
      "Value is: search-alias=digital-text\n",
      "Value is: search-alias=videogames\n"
     ]
    }
   ],
   "source": [
    "## MOSTRAMOS TODAS LAS CATEGORÍAS POSIBLES: \n",
    "for option in opcion:\n",
    "    print(\"Value is: %s\" % option.get_attribute(\"value\"))\n",
    "    #option.click()\n",
    "    #time.sleep(10)"
   ]
  },
  {
   "cell_type": "markdown",
   "id": "1ff4e5e2-4e41-4b3d-a8ee-8e0af565134e",
   "metadata": {},
   "source": [
    "Seguidamente se selecciona las opciones que se desean, para la practica selecionaremos \"computers\" en un menú desplegable de categorías ubicado en una página web y que se muestra en la líena anterior. La primera línea del código crea un objeto \"seleccionar\" que va a representar el menú desplegable. La segunda línea del código va a buscar la opción que tenga como valor \"search-alias=computers\" y la va a seleccionar en el menú desplegable."
   ]
  },
  {
   "cell_type": "code",
   "execution_count": 14,
   "id": "5cda6078",
   "metadata": {},
   "outputs": [],
   "source": [
    "## SELECCIONAMOS UNO O VARIOS: \n",
    "seleccionar = Select(driver.find_element(By.XPATH, '/html/body/div[1]/header/div/div[1]/div[2]/div/form/div[2]/div/div/select'))\n",
    "seleccionar.select_by_value(\"search-alias=computers\")"
   ]
  },
  {
   "cell_type": "markdown",
   "id": "2fbdbc1a-4584-49ac-ad41-b10f5d0113f7",
   "metadata": {},
   "source": [
    "A continuación, se utiliza Selenium para encontrar el campo de búsqueda en la página de Amazon y escribir \"laptop\" en él. Utiliza `WebDriverWait` para esperar hasta que el campo de búsqueda sea clickeable, y luego selecciona el elemento utilizando su selector CSS. Después, utiliza el método `send_keys` para escribir \"laptop\" en el campo de búsqueda."
   ]
  },
  {
   "cell_type": "code",
   "execution_count": 15,
   "id": "5e3b8101",
   "metadata": {},
   "outputs": [],
   "source": [
    "## definimos el producto a buscar: \n",
    "\n",
    "producto = \"laptop\" # cambiar de acuerdo al producto. \n",
    "\n",
    "WebDriverWait(driver, 10)\\\n",
    "    .until(EC.element_to_be_clickable((By.CSS_SELECTOR,\n",
    "                                      'input#twotabsearchtextbox nav-input nav-progressive-attribute'.replace(' ','.'))))\\\n",
    "    .send_keys(producto)"
   ]
  },
  {
   "cell_type": "markdown",
   "id": "a3608192-6a3a-4340-977d-0e9d940e0b32",
   "metadata": {},
   "source": [
    "El siguiente código encuentra el botón \"Buscar\" en la página web y hace clic en él, lo que desencadena la búsqueda de la palabra clave \"laptop\" que se ingresó anteriormente en el cuadro de búsqueda. Se utiliza `WebDriverWait` para asegurarse de que el botón esté cargado y sea clickable antes de hacer clic en él. El botón se encuentra a través de un selector CSS, que se pasa como un argumento al método `until` de `WebDriverWait` ."
   ]
  },
  {
   "cell_type": "code",
   "execution_count": 16,
   "id": "a4a9eb0c",
   "metadata": {},
   "outputs": [],
   "source": [
    "## HACEMOS CLICK EN BUSCAR: \n",
    "WebDriverWait(driver, 10)\\\n",
    "    .until(EC.element_to_be_clickable((By.CSS_SELECTOR,\n",
    "                                      'input#nav-search-submit-button nav-input nav-progressive-attribute'.replace(' ','.'))))\\\n",
    "    .click()"
   ]
  },
  {
   "cell_type": "markdown",
   "id": "830ad90f-269e-4004-bd4b-1da4f97a000a",
   "metadata": {},
   "source": [
    "El siguiente código importa dos módulos, `re` y `numpy`, y define una función\n",
    "\n",
    "La función `transformar`, toma un argumento `val1` y devuelve el primer elemento de `val1`. Si `val1` está vacío, se devuelve `val1` directamente. Esta función es útil para manejar casos en los que `val1` puede ser una lista o un valor único."
   ]
  },
  {
   "cell_type": "code",
   "execution_count": 17,
   "id": "590d7b97",
   "metadata": {},
   "outputs": [],
   "source": [
    "import re \n",
    "import numpy as np\n",
    "\n",
    "def transformar(val1):\n",
    "    try:\n",
    "        a = val1[0]\n",
    "    except:\n",
    "        a= val1\n",
    "    return(a)"
   ]
  },
  {
   "cell_type": "markdown",
   "id": "ff16a964-bcf7-4735-9c53-c548b78549f2",
   "metadata": {},
   "source": [
    "### Automatización para recopilar información de varias páginas"
   ]
  },
  {
   "cell_type": "markdown",
   "id": "988572b6-7aa8-4647-99d4-107e254cea98",
   "metadata": {},
   "source": [
    "A continuación, se presenta el código para automatizar el preceso de recopilar información de varias páginas de resultados de búsqueda de Amazon de laptops y computadores de escritorio. El código realiza las siguientes tareas:\n",
    "\n",
    "- Busca los nombres de los laptops que se encuentran en los resultados de búsqueda.\n",
    "- Busca los precios de los laptops que se encuentran en los resultados de búsqueda.\n",
    "- Busca las características de los laptops que se encuentran en los resultados de búsqueda, como el tamaño de pantalla, el disco duro, la velocidad de la CPU y la memoria.\n",
    "- Busca la valoración media de los laptops que se encuentran en los resultados de búsqueda.\n",
    "- Consolida toda la información obtenida en un DataFrame de pandas.\n",
    "- Hace clic en el botón siguiente para ir a la siguiente página de resultados de búsqueda y continuar el proceso."
   ]
  },
  {
   "cell_type": "code",
   "execution_count": 21,
   "id": "17e1838f",
   "metadata": {},
   "outputs": [
    {
     "name": "stdout",
     "output_type": "stream",
     "text": [
      "0\n",
      "1\n",
      "2\n"
     ]
    }
   ],
   "source": [
    "#Creamos un DataFrame vacío para almacenar la información consolidada\n",
    "\n",
    "datos_consolidados = pd.DataFrame()\n",
    "\n",
    "#Realizamos un ciclo para iterar por 3 páginas de una web\n",
    "for i in range(0,3): \n",
    "    \n",
    "    time.sleep(10)# Agregamos un tiempo de espera de 10 segundos\n",
    "    \n",
    "    print(i)# Imprimimos el valor de i\n",
    "    \n",
    "    # Extraemos los nombres de los laptops\n",
    "    laptops_name = driver.find_elements(By.XPATH, '//span[@class=\"a-size-medium a-color-base a-text-normal\"]')\n",
    "    laptops_name_list = [] # Creamos una lista vacía para almacenar los nombres de los laptops                                                                                                      \n",
    "    for laptop in range(len(laptops_name)): # bucle que se ejecuta hasta la longitud de la lista  nombre de laptops                                                                                    \n",
    "        laptops_name_list.append(laptops_name[laptop].text) # Agregamos los nombres de los laptops a la lista\n",
    "\n",
    "\n",
    "    time.sleep(10)# Agregamos un tiempo de espera de 10 segundos\n",
    "  \n",
    "\n",
    "    # Extraemos los precios de los laptops\n",
    "    \n",
    "    laptops_price = driver.find_elements(By.XPATH, '//span[@class=\"a-price-whole\"]')\n",
    "    laptops_price_list = []     # Creamos una lista vacía para almacenar los precios de los laptops                                                                                                  \n",
    "    for laptop in range(len(laptops_price)): #bucle que se ejecuta hasta la longitud de la lista precio de laptops                                                                                 ## a loop that runs until the length of movies_name list\n",
    "        laptops_price_list.append(laptops_price[laptop].text)# Agregamos los precios de los laptops a la lista\n",
    "    \n",
    "    \n",
    "    \n",
    "    # Extraemos las características de los laptops\n",
    "    laptops_feature1 = driver.find_elements(By.XPATH, '//div[@class=\"a-section a-spacing-none a-spacing-top-micro s-product-grid-adjustment\"]')\n",
    "    laptops_feature1_list = []   # Creamos una lista vacía para almacenar las características de los laptops                                                                                                      ## an empty list for storing movie names\n",
    "    for laptop in range(len(laptops_feature1)):   #bucle que se ejecuta hasta la longitud de la lista caracteristicas de laptops                                                                                    ## a loop that runs until the length of movies_name list\n",
    "        laptops_feature1_list.append(laptops_feature1[laptop].text)# Agregamos las caracteristicas de los laptops a la lista\n",
    "     \n",
    "    \n",
    "    # Extraemos la valoración media de los laptops\n",
    "    valoracion_media = driver.find_elements(By.XPATH, '//span[@class=\"a-size-base\"]')\n",
    "    valoracion_media_list = []# Creamos una lista vacía para almacenar la valoración media de los laptops   \n",
    "    for laptop in range(len(valoracion_media)):#bucle que se ejecuta hasta la longitud de la lista valoración media de laptops                                                                                      ## a loop that runs until the length of movies_name list\n",
    "        if(valoracion_media[laptop].text != \"\"):# Agregamos valoración media de los laptops a la lista\n",
    "            valoracion_media_list.append(valoracion_media[laptop].text.replace(\",\", \".\"))\n",
    "    \n",
    "    time.sleep(15)# Agregamos un tiempo de espera de 15 segundos\n",
    "   \n",
    "\n",
    "    # Creamos un DataFrame con la información de los nombres y precios de los laptops\n",
    "    \n",
    "    dataframe = []\n",
    "\n",
    "    if len(laptops_name_list) == len(laptops_price_list):\n",
    "        dataframe = pd.DataFrame(list(zip(laptops_name_list, laptops_price_list)),columns =['NOMBRE', 'PRECIO'])\n",
    "    else: \n",
    "        dataframe = pd.DataFrame(list(zip(laptops_name_list, laptops_price_list[ len(laptops_price_list) - len(laptops_name_list) : len(laptops_price_list) ])),columns =['NOMBRE', 'PRECIO'])\n",
    "\n",
    "        \n",
    "   # Extraemos la información adicional de los laptops \n",
    "    \n",
    "    tamaño_pantalla = []\n",
    "    disco_duro = []\n",
    "    velocidadCPU = []\n",
    "    memoria = []\n",
    "\n",
    "    # busca y extrae información específica sobre los laptops de una lista y la agrega a diferentes listas predefinidas.\n",
    "    for item in range(0,len(laptops_feature1_list)): \n",
    "        result = re.findall('Tamaño de pantalla\\n(\\d*[.,]?\\d*)', laptops_feature1_list[item])\n",
    "        result_1 = re.findall('\\nDescripción del disco duro\\n(\\w+)\\n', laptops_feature1_list[item])\n",
    "        result_2 = re.findall('\\nVelocidad CPU\\n(\\d*[.,]?\\d*) GHz\\n', laptops_feature1_list[item])\n",
    "        result_3 = re.findall('\\nTamaño de memoria\\n(\\d)', laptops_feature1_list[item])\n",
    "        tamaño_pantalla.append(transformar(result))\n",
    "        disco_duro.append(transformar(result_1))\n",
    "        velocidadCPU.append(transformar(result_2))\n",
    "        memoria.append(transformar(result_3))\n",
    "        \n",
    "        \n",
    "        \n",
    "    # Extraemos la fotografía asociada a cada publicación: \n",
    "    \n",
    "    laptops_image = driver.find_elements(By.XPATH, '//img[@class=\"s-image\"]')\n",
    "    \n",
    "    src = []\n",
    "    for img in laptops_image:\n",
    "        src.append(img.get_attribute('src'))\n",
    "    \n",
    "    # descargamos la imagen: \n",
    "    \n",
    "    for i in range(0,len(src)):\n",
    "        urllib.request.urlretrieve(str(src[i]),\"imagenes/escritorio{}.jpg\".format(i))\n",
    "    \n",
    "    \n",
    "    WebDriverWait(driver, 5)\\\n",
    "    .until(EC.element_to_be_clickable((By.CSS_SELECTOR,\n",
    "                                      'a.s-pagination-item s-pagination-next s-pagination-button s-pagination-separator'.replace(' ','.'))))\\\n",
    "    .click()\n",
    "    \n",
    "     #agrega nuevas columnas \"PANTALLA\", \"DISCO\", \"CPU\", \"MEMORIA\" y \"VALORACION\" al dataframe existente, asignando a cada una una serie correspondiente de datos previamente extraídos.    \n",
    "    dataframe = dataframe.assign(PANTALLA = pd.Series(tamaño_pantalla), DISCO = pd.Series(disco_duro), CPU = pd.Series(velocidadCPU), MEMORIA = pd.Series(memoria), VALORACION = pd.Series(valoracion_media_list) )\n",
    "    \n",
    "    \n",
    "    #concatena el DataFrame \"dataframe\" con el DataFrame \"datos_consolidados\" y lo guarda en la variable \"datos_consolidados\".\n",
    "    datos_consolidados = pd.concat([datos_consolidados, dataframe])\n",
    "    \n",
    "    \n",
    "    #time.sleep(15)"
   ]
  },
  {
   "cell_type": "code",
   "execution_count": 22,
   "id": "bfa11057",
   "metadata": {},
   "outputs": [
    {
     "data": {
      "text/html": [
       "<div>\n",
       "<style scoped>\n",
       "    .dataframe tbody tr th:only-of-type {\n",
       "        vertical-align: middle;\n",
       "    }\n",
       "\n",
       "    .dataframe tbody tr th {\n",
       "        vertical-align: top;\n",
       "    }\n",
       "\n",
       "    .dataframe thead th {\n",
       "        text-align: right;\n",
       "    }\n",
       "</style>\n",
       "<table border=\"1\" class=\"dataframe\">\n",
       "  <thead>\n",
       "    <tr style=\"text-align: right;\">\n",
       "      <th></th>\n",
       "      <th>NOMBRE</th>\n",
       "      <th>PRECIO</th>\n",
       "      <th>PANTALLA</th>\n",
       "      <th>DISCO</th>\n",
       "      <th>CPU</th>\n",
       "      <th>MEMORIA</th>\n",
       "      <th>VALORACION</th>\n",
       "    </tr>\n",
       "  </thead>\n",
       "  <tbody>\n",
       "    <tr>\n",
       "      <th>0</th>\n",
       "      <td>Acer Aspire 3 A315-58 - Ordenador Portátil 15....</td>\n",
       "      <td>999,00</td>\n",
       "      <td>15.6</td>\n",
       "      <td>SSD</td>\n",
       "      <td>2.8</td>\n",
       "      <td>8</td>\n",
       "      <td>4.5</td>\n",
       "    </tr>\n",
       "    <tr>\n",
       "      <th>1</th>\n",
       "      <td>SAMSUNG Galaxy Book3 - Laptop 15,6\" FullHD (In...</td>\n",
       "      <td>499,00</td>\n",
       "      <td>15.6</td>\n",
       "      <td>SSD</td>\n",
       "      <td>1</td>\n",
       "      <td>1</td>\n",
       "      <td>3.9</td>\n",
       "    </tr>\n",
       "    <tr>\n",
       "      <th>2</th>\n",
       "      <td>Lenovo IdeaPad 1 Gen 7 - Ordenador Portátil 15...</td>\n",
       "      <td>1.169,00</td>\n",
       "      <td>15.6</td>\n",
       "      <td>SSD</td>\n",
       "      <td>3.5</td>\n",
       "      <td>8</td>\n",
       "      <td>4.1</td>\n",
       "    </tr>\n",
       "    <tr>\n",
       "      <th>3</th>\n",
       "      <td>Dell G15 5511- Ordenador Portátil Gaming de 15...</td>\n",
       "      <td>332,46</td>\n",
       "      <td>15.6</td>\n",
       "      <td>SSD</td>\n",
       "      <td>4.4</td>\n",
       "      <td>8</td>\n",
       "      <td>4.4</td>\n",
       "    </tr>\n",
       "    <tr>\n",
       "      <th>4</th>\n",
       "      <td>MSI Katana 15 B13VFK-031XES - Ordenador portát...</td>\n",
       "      <td>799,99</td>\n",
       "      <td>15.6</td>\n",
       "      <td>SSD</td>\n",
       "      <td>3.4</td>\n",
       "      <td>[]</td>\n",
       "      <td>3.9</td>\n",
       "    </tr>\n",
       "    <tr>\n",
       "      <th>...</th>\n",
       "      <td>...</td>\n",
       "      <td>...</td>\n",
       "      <td>...</td>\n",
       "      <td>...</td>\n",
       "      <td>...</td>\n",
       "      <td>...</td>\n",
       "      <td>...</td>\n",
       "    </tr>\n",
       "    <tr>\n",
       "      <th>26</th>\n",
       "      <td>Lenovo ThinkPad T450 14 pulgadas HD Intel Core...</td>\n",
       "      <td>299,00</td>\n",
       "      <td>14</td>\n",
       "      <td>SSD</td>\n",
       "      <td>[]</td>\n",
       "      <td>1</td>\n",
       "      <td>4.7</td>\n",
       "    </tr>\n",
       "    <tr>\n",
       "      <th>27</th>\n",
       "      <td>Acer Aspire 5 A514-54 - Ordenador Portátil 14\"...</td>\n",
       "      <td>529,00</td>\n",
       "      <td>14</td>\n",
       "      <td>SSD</td>\n",
       "      <td>4.7</td>\n",
       "      <td>8</td>\n",
       "      <td>NaN</td>\n",
       "    </tr>\n",
       "    <tr>\n",
       "      <th>28</th>\n",
       "      <td>Dell Lati 3320 I7-1165g7 8 512 13 W10p</td>\n",
       "      <td>1.274,55</td>\n",
       "      <td>13.3</td>\n",
       "      <td>SSD</td>\n",
       "      <td>[]</td>\n",
       "      <td>1</td>\n",
       "      <td>NaN</td>\n",
       "    </tr>\n",
       "    <tr>\n",
       "      <th>29</th>\n",
       "      <td>Surface Laptop 4 CI7 G11 SYST</td>\n",
       "      <td>1.051,80</td>\n",
       "      <td>15</td>\n",
       "      <td>[]</td>\n",
       "      <td>[]</td>\n",
       "      <td>[]</td>\n",
       "      <td>NaN</td>\n",
       "    </tr>\n",
       "    <tr>\n",
       "      <th>0</th>\n",
       "      <td>Microsoft Surface Laptop Studio - Ordenador po...</td>\n",
       "      <td>943,51</td>\n",
       "      <td>14.4</td>\n",
       "      <td>SSD</td>\n",
       "      <td>4.4</td>\n",
       "      <td>1</td>\n",
       "      <td>3.3</td>\n",
       "    </tr>\n",
       "  </tbody>\n",
       "</table>\n",
       "<p>62 rows × 7 columns</p>\n",
       "</div>"
      ],
      "text/plain": [
       "                                               NOMBRE    PRECIO PANTALLA  \\\n",
       "0   Acer Aspire 3 A315-58 - Ordenador Portátil 15....    999,00     15.6   \n",
       "1   SAMSUNG Galaxy Book3 - Laptop 15,6\" FullHD (In...    499,00     15.6   \n",
       "2   Lenovo IdeaPad 1 Gen 7 - Ordenador Portátil 15...  1.169,00     15.6   \n",
       "3   Dell G15 5511- Ordenador Portátil Gaming de 15...    332,46     15.6   \n",
       "4   MSI Katana 15 B13VFK-031XES - Ordenador portát...    799,99     15.6   \n",
       "..                                                ...       ...      ...   \n",
       "26  Lenovo ThinkPad T450 14 pulgadas HD Intel Core...    299,00       14   \n",
       "27  Acer Aspire 5 A514-54 - Ordenador Portátil 14\"...    529,00       14   \n",
       "28             Dell Lati 3320 I7-1165g7 8 512 13 W10p  1.274,55     13.3   \n",
       "29                      Surface Laptop 4 CI7 G11 SYST  1.051,80       15   \n",
       "0   Microsoft Surface Laptop Studio - Ordenador po...    943,51     14.4   \n",
       "\n",
       "   DISCO  CPU MEMORIA VALORACION  \n",
       "0    SSD  2.8       8        4.5  \n",
       "1    SSD    1       1        3.9  \n",
       "2    SSD  3.5       8        4.1  \n",
       "3    SSD  4.4       8        4.4  \n",
       "4    SSD  3.4      []        3.9  \n",
       "..   ...  ...     ...        ...  \n",
       "26   SSD   []       1        4.7  \n",
       "27   SSD  4.7       8        NaN  \n",
       "28   SSD   []       1        NaN  \n",
       "29    []   []      []        NaN  \n",
       "0    SSD  4.4       1        3.3  \n",
       "\n",
       "[62 rows x 7 columns]"
      ]
     },
     "execution_count": 22,
     "metadata": {},
     "output_type": "execute_result"
    }
   ],
   "source": [
    "# vemos la información guardada en dataframe 'datos_consolidados'\n",
    "datos_consolidados"
   ]
  },
  {
   "cell_type": "markdown",
   "id": "48244820-ffbf-4390-ad3e-d02e9fde2a75",
   "metadata": {},
   "source": [
    "Cerramos la sesión de WebDriver y cerrar el navegador web que se haya abierto durante la ejecución del script. Libera la memoria asignada a la instancia de WebDriver y cierra la conexión con el servidor de Selenium"
   ]
  },
  {
   "cell_type": "code",
   "execution_count": null,
   "id": "15414035",
   "metadata": {},
   "outputs": [],
   "source": [
    "driver.quit()"
   ]
  },
  {
   "cell_type": "markdown",
   "id": "86c9d827-ac4c-42b8-8f0b-31dac5cc19c1",
   "metadata": {},
   "source": [
    "### Guardar Dataset localmente"
   ]
  },
  {
   "cell_type": "markdown",
   "id": "97bdf0d5-1b11-43f9-bb87-8471ccb3202c",
   "metadata": {},
   "source": [
    "A continuación se utiliza el método `to_csv()` de Pandas que permite escribir un objeto DataFrame en un archivo CSV (comma-separated values). El archivo se guarda en el directorio de trabajo actual (o en una ruta especificada) y contiene los datos de DataFrame organizados en filas y columnas, separados por comas.\n",
    "\n",
    "En el caso específico, `datos_consolidados` es un objeto DataFrame que se ha ido construyendo a lo largo del programa y que se desea guardar en formato CSV en un archivo llamado `datos.csv`. El parámetro `index=False` indica que no se debe escribir el índice del DataFrame en el archivo CSV."
   ]
  },
  {
   "cell_type": "code",
   "execution_count": null,
   "id": "154f598c-8246-4ce4-9d69-247201ff7d2d",
   "metadata": {},
   "outputs": [],
   "source": [
    "datos_consolidados.to_csv('datos_scraping.csv', index=False)"
   ]
  },
  {
   "cell_type": "markdown",
   "id": "e4e2ad3b-4a6b-455a-bb5e-7cb00b453d6d",
   "metadata": {},
   "source": [
    "## Conclusión"
   ]
  },
  {
   "cell_type": "markdown",
   "id": "bf36b764-85f9-44cd-8425-9fbf9adea49b",
   "metadata": {},
   "source": [
    "Durante la práctica se han abordado diversos temas relacionados con la obtención y procesamiento de datos mediante el uso de Python y librerías como Selenium. Se ha visto cómo se puede utilizar el web scraping para extraer información de sitios web y cómo esta información puede ser organizada y almacenada en estructuras de datos como listas o dataframes. Además, se han abordado temas como el manejo de excepciones y la implementación de buenas prácticas en el desarrollo de código.\n",
    "\n",
    "En general, se han abarcado varios conceptos y herramientas útiles para la automatización de tareas y el procesamiento de grandes cantidades de datos de forma eficiente. La práctica ha permitido aplicar estos conceptos en la solución de un problema concreto y ha brindado la oportunidad de aprender y mejorar habilidades en programación en Python."
   ]
  }
 ],
 "metadata": {
  "kernelspec": {
   "display_name": "Python 3",
   "language": "python",
   "name": "python3"
  },
  "language_info": {
   "codemirror_mode": {
    "name": "ipython",
    "version": 3
   },
   "file_extension": ".py",
   "mimetype": "text/x-python",
   "name": "python",
   "nbconvert_exporter": "python",
   "pygments_lexer": "ipython3",
   "version": "3.8.8"
  }
 },
 "nbformat": 4,
 "nbformat_minor": 5
}
